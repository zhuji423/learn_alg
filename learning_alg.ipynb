{
 "cells": [
  {
   "cell_type": "code",
   "execution_count": 1,
   "metadata": {},
   "outputs": [],
   "source": [
    "import numpy as np\n",
    "import time"
   ]
  },
  {
   "cell_type": "code",
   "execution_count": 21,
   "metadata": {},
   "outputs": [],
   "source": [
    "class Timer:  # @save\n",
    "    \"\"\"记录多次运行时间\"\"\"\n",
    "\n",
    "    def __init__(self):\n",
    "        self.times = []\n",
    "        self.start()\n",
    "\n",
    "    def start(self):\n",
    "        \"\"\"启动计时器\"\"\"\n",
    "        self.tik = time.time()\n",
    "\n",
    "    def stop(self):\n",
    "        \"\"\"停止计时器并将时间记录在列表中\"\"\"\n",
    "        self.times.append(time.time() - self.tik)\n",
    "        return self.times[-1]\n",
    "\n",
    "    def avg(self):\n",
    "        \"\"\"返回平均时间\"\"\"\n",
    "        return sum(self.times) / len(self.times)\n",
    "\n",
    "    def sum(self):\n",
    "        \"\"\"返回时间总和\"\"\"\n",
    "        return sum(self.times)\n",
    "\n",
    "    def cumsum(self):\n",
    "        \"\"\"返回累计时间\"\"\"\n",
    "        return np.array(self.times).cumsum().tolist()\n",
    "    def get_timelist(self):\n",
    "        return self.times\n"
   ]
  },
  {
   "cell_type": "markdown",
   "metadata": {},
   "source": [
    "# 时间复杂度\n",
    "## 测试一下这台电脑1s可以跑多少"
   ]
  },
  {
   "cell_type": "code",
   "execution_count": 41,
   "metadata": {},
   "outputs": [],
   "source": [
    "def func1(n):\n",
    "    '''\n",
    "    这是一个算法复杂度O(n)的函数\n",
    "    '''\n",
    "    sum = 0\n",
    "    for i in range(0,n):\n",
    "        sum+=1\n",
    "def func2(n):\n",
    "    '''\n",
    "    这是一个算法复杂度O(n^2)的函数\n",
    "    '''\n",
    "    sum = 0\n",
    "    for i in range(0,n):\n",
    "        for j in range(0, n):\n",
    "            sum+=1\n",
    "\n",
    "\n",
    "def func3(n):\n",
    "    '''\n",
    "    这是一个算法复杂度O(nlogn)的函数\n",
    "    '''\n",
    "    sum = 0\n",
    "    j = 1\n",
    "    for i in range(0, n):\n",
    "        while(j<n):\n",
    "            j *=2\n",
    "            sum += 1\n",
    "    return sum\n"
   ]
  },
  {
   "cell_type": "code",
   "execution_count": 13,
   "metadata": {},
   "outputs": [
    {
     "name": "stderr",
     "output_type": "stream",
     "text": [
      "E:\\anaconda\\lib\\site-packages\\numpy\\core\\function_base.py:277: RuntimeWarning: overflow encountered in power\n",
      "  return _nx.power(base, y)\n"
     ]
    },
    {
     "data": {
      "text/plain": [
       "50"
      ]
     },
     "execution_count": 13,
     "metadata": {},
     "output_type": "execute_result"
    }
   ],
   "source": [
    "n = 10000\n",
    "len(np.logspace(0, n, endpoint=True, base=2))\n",
    "# np.log2(n)"
   ]
  },
  {
   "cell_type": "code",
   "execution_count": 42,
   "metadata": {},
   "outputs": [
    {
     "name": "stdout",
     "output_type": "stream",
     "text": [
      "26\n"
     ]
    }
   ],
   "source": [
    "timer = Timer()\n",
    "timer.start()\n",
    "n1 = 26000000  # sqrt(25e6) = 5e3 '0.99933 sec'\n",
    "n2 = 5150  # '0.96043 sec'\n",
    "n3 = 40000000  # '1.06116 sec'\n",
    "# func1(n1)\n",
    "# func2(n2)\n",
    "sum = func3(n3)\n",
    "timer.stop()\n",
    "f'{timer.stop():.5f} sec'\n",
    "print(sum)"
   ]
  },
  {
   "cell_type": "code",
   "execution_count": 43,
   "metadata": {},
   "outputs": [
    {
     "data": {
      "text/plain": [
       "25.253496664211536"
      ]
     },
     "execution_count": 43,
     "metadata": {},
     "output_type": "execute_result"
    }
   ],
   "source": [
    "np.log2(40000000)\n"
   ]
  },
  {
   "cell_type": "markdown",
   "metadata": {},
   "source": [
    "## 本台电脑用cpp用O(n)的算法\n",
    "\n",
    "![](https://trainpic-1310848382.cos.ap-nanjing.myqcloud.com//d2l1.jpg)\n",
    "## 本台电脑用cpp用O(n^2)的算法\n",
    "![](https://trainpic-1310848382.cos.ap-nanjing.myqcloud.com//d2l2.jpg)\n",
    "## 本台电脑用cpp用O(nlog(n))的算法\n",
    "<!-- ![pics](pics/3.jpg) -->\n",
    "![](https://trainpic-1310848382.cos.ap-nanjing.myqcloud.com//d2l3.jpg)\n",
    "cpp可以跑O(n)10亿(1e9),开根号大概为30000,差不多就是O(n^2),cpp用3e7跑O(nlog(n))"
   ]
  },
  {
   "cell_type": "markdown",
   "metadata": {},
   "source": [
    "# 空间复杂度"
   ]
  },
  {
   "cell_type": "code",
   "execution_count": 1,
   "metadata": {},
   "outputs": [],
   "source": [
    "## 空间复杂度为O(n)\n",
    "a = []\n",
    "for i in range(100):\n",
    "    a.append(i)\n"
   ]
  },
  {
   "cell_type": "markdown",
   "metadata": {},
   "source": [
    "## leetcode刷题计划，每天看一篇\n",
    "## 二分查找  2022.2.13-2.14  \n",
    "---\n",
    " "
   ]
  },
  {
   "cell_type": "markdown",
   "metadata": {},
   "source": [
    "- 704 二分查找\n",
    "  使用条件：\n",
    "  1. `数组为有序数组`，\n",
    "  2. `数组中无重复元素`，因为一旦有重复元素，使用二分查找法返回的元素下标可能不是唯一\n",
    "---\n",
    "## 相关题目推荐\n",
    "- 35.搜索插入位置\n",
    "- 34.在排序数组中查找元素的第一个和最后一个位置\n",
    "- 69.x 的平方根\n",
    "- 367.有效的完全平方数\n"
   ]
  },
  {
   "cell_type": "code",
   "execution_count": 14,
   "metadata": {},
   "outputs": [],
   "source": [
    "# 二分的第一种实现\n",
    "def search(nums,target):\n",
    "    l = 0\n",
    "    r = len(nums)-1  # [0,n]\n",
    "    while(l <= r): #两个指针是可以重复的\n",
    "        m = (l+r)//2\n",
    "        print(\"before\", l, r, m)\n",
    "        if(nums[m] > target):\n",
    "            #[l,m-1]\n",
    "            r = m-1\n",
    "        elif(nums[m] < target):\n",
    "            l = m+1\n",
    "        elif(nums[m] == target):\n",
    "            print(\"after\", l, r, m)\n",
    "            return m \n",
    "        print(\"after\", l, r, m)\n",
    "    return -1\n"
   ]
  },
  {
   "cell_type": "code",
   "execution_count": 8,
   "metadata": {},
   "outputs": [],
   "source": [
    "def search2(nums,target):\n",
    "    l = 0\n",
    "    r = len(nums)#[l,r)\n",
    "    while(l < r):\n",
    "        m = (l+r)//2\n",
    "        print(\"before\", l, r, m)\n",
    "        if(nums[m] > target):\n",
    "            r = m\n",
    "        elif(nums[m] < target):\n",
    "            l = m+1\n",
    "        elif(nums[m] == target):\n",
    "            print(\"af\", l, r, m)\n",
    "            return m\n",
    "        print(\"after\", l, r, m)\n",
    "    return -1\n"
   ]
  },
  {
   "cell_type": "code",
   "execution_count": 5,
   "metadata": {},
   "outputs": [
    {
     "name": "stdout",
     "output_type": "stream",
     "text": [
      "before 0 3 1\n",
      "af 0 0 1\n",
      "before 0 0 0\n",
      "af 1 0 0\n"
     ]
    }
   ],
   "source": [
    "# 第35题的结果\n",
    "def searchInsert(nums, target) :\n",
    "    l = 0\n",
    "    r = len(nums)-1  # 闭区间\n",
    "    while(l <= r):    \n",
    "        m = (l+r)//2\n",
    "        print(\"before\",l,r,m)\n",
    "        if(nums[m] > target):\n",
    "            r = m-1\n",
    "        elif(nums[m] < target):\n",
    "            l = m+1\n",
    "        elif(nums[m] == target):\n",
    "            return m    \n",
    "        print(\"af\", l, r,m)\n",
    "    else:\n",
    "        return l\n",
    "\n",
    "\n",
    "x = searchInsert([1, 3, 5, 6], 2)\n",
    "# before 0 3 1\n",
    "# af 0 0 1\n",
    "# before 0 0 0\n",
    "# af 1 0 0\n",
    "# 在最终返回的时候左边指针会多加一个\n"
   ]
  },
  {
   "cell_type": "code",
   "execution_count": 33,
   "metadata": {},
   "outputs": [
    {
     "name": "stdout",
     "output_type": "stream",
     "text": [
      "before 0 9 4\n",
      "after 5 9 4\n",
      "before 5 9 7\n",
      "after 5 7 7\n",
      "before 5 7 6\n",
      "af 5 7 6\n"
     ]
    },
    {
     "data": {
      "text/plain": [
       "6"
      ]
     },
     "execution_count": 33,
     "metadata": {},
     "output_type": "execute_result"
    }
   ],
   "source": [
    "search2([1, 3, 5, 6, 6, 8, 8, 11, 15], 8)"
   ]
  },
  {
   "cell_type": "code",
   "execution_count": null,
   "metadata": {},
   "outputs": [],
   "source": []
  },
  {
   "cell_type": "markdown",
   "metadata": {},
   "source": [
    "## 二叉树的迭代遍历\n",
    "---"
   ]
  },
  {
   "cell_type": "markdown",
   "metadata": {},
   "source": [
    "- 144.二叉树的前序遍历\n",
    "- 94.二叉树的中序遍历\n",
    "- 145.二叉树的后序遍历"
   ]
  },
  {
   "cell_type": "markdown",
   "metadata": {},
   "source": []
  }
 ],
 "metadata": {
  "interpreter": {
   "hash": "8d86c190dfcadcdaa67edec4a1ea82702241987b5b1f320c920d3d4ca36fee5b"
  },
  "kernelspec": {
   "display_name": "Python 3.9.7 ('base')",
   "language": "python",
   "name": "python3"
  },
  "language_info": {
   "codemirror_mode": {
    "name": "ipython",
    "version": 3
   },
   "file_extension": ".py",
   "mimetype": "text/x-python",
   "name": "python",
   "nbconvert_exporter": "python",
   "pygments_lexer": "ipython3",
   "version": "3.9.7"
  },
  "orig_nbformat": 4
 },
 "nbformat": 4,
 "nbformat_minor": 2
}
